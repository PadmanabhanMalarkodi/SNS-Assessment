{
 "cells": [
  {
   "cell_type": "markdown",
   "id": "10f76627",
   "metadata": {},
   "source": [
    "## Problem Statement 1: Natural Language Processing (NLP)\n",
    "\n",
    "**Problem:**\n",
    "Implement a function to preprocess and tokenize text data. \n",
    "\n",
    "**Requirements:**\n",
    "Implement in Python using libraries like NLTK or spaCy.\n",
    "Handle edge cases such as punctuation, stop words, and different cases. \n",
    "\n",
    "**Evaluation Criteria:**\n",
    "Correctness of the preprocessing steps.\n",
    "Efficiency and readability of the code.\n",
    "Clean and structured code with appropriate comments."
   ]
  },
  {
   "cell_type": "code",
   "execution_count": 6,
   "id": "3c38a623",
   "metadata": {},
   "outputs": [],
   "source": [
    "# Import spaCy\n",
    "import spacy"
   ]
  },
  {
   "cell_type": "code",
   "execution_count": 7,
   "id": "05ddf1f5",
   "metadata": {},
   "outputs": [],
   "source": [
    "# Load spaCy's Large english language model\n",
    "nlp = spacy.load(\"en_core_web_lg\")"
   ]
  },
  {
   "cell_type": "code",
   "execution_count": 8,
   "id": "80de15b2",
   "metadata": {},
   "outputs": [],
   "source": [
    "# Function of processing the input text\n",
    "\n",
    "def preprocess_and_tokenize(text):\n",
    "    \"\"\"\n",
    "    This function takes string as an input parameter and convertes into nlp object and \n",
    "    return a list of prepocessed and tokenized words.\n",
    "    \"\"\"\n",
    "    \n",
    "    # Process the text with spaCy\n",
    "    doc = nlp(text)   # Creating an NLP object\n",
    "    \n",
    "    # Tokenize and filter out punctuation and stop words and normalizing the tokens into small letters\n",
    "    filtered_tokens = []\n",
    "    \n",
    "    for token in doc:\n",
    "        if token.is_stop or token.is_punct:\n",
    "            continue\n",
    "        filtered_tokens.append(token.text.lower()) \n",
    "    \n",
    "    return filtered_tokens"
   ]
  },
  {
   "cell_type": "code",
   "execution_count": 9,
   "id": "a0fac2b7",
   "metadata": {},
   "outputs": [
    {
     "name": "stdout",
     "output_type": "stream",
     "text": [
      "['hello', 'world', 'sample', 'text', 'preprocessing', 'tokenization']\n"
     ]
    }
   ],
   "source": [
    "# Example usage\n",
    "sample_text = \"Hello, world! This is a sample text for preprocessing and tokenization.\"\n",
    "\n",
    "# Storing the result\n",
    "preprocessed_tokens = preprocess_and_tokenize(sample_text)\n",
    "\n",
    "# Display the result\n",
    "print(preprocessed_tokens)"
   ]
  },
  {
   "cell_type": "markdown",
   "id": "0283b77b",
   "metadata": {},
   "source": [
    "### Interpretation:\n",
    "#### Punctuation has been removed (\",\", \"!\", \".\"\")\n",
    "#### Stop words has been removed (\"This\", \"is\", \"a\", \"for\", \"and\")\n",
    "#### Texts are normalized (\"Hello\" --> \"hello\")"
   ]
  },
  {
   "cell_type": "markdown",
   "id": "a42fec26",
   "metadata": {},
   "source": [
    "### NOTE : As the problem statement did not mention about stemming or lemmatization, I have not performed that in the above code.But in some NLP application it is important to perform stemming/lemmatization."
   ]
  },
  {
   "cell_type": "code",
   "execution_count": 12,
   "id": "24ce9387",
   "metadata": {},
   "outputs": [],
   "source": [
    "def text_preprocess(text):\n",
    "    \"\"\"\n",
    "    This function takes string as an input parameter and convertes into nlp object and \n",
    "    return a list of prepocessed and tokenized words.\n",
    "    \"\"\"\n",
    "    \n",
    "    # Process the text with spaCy\n",
    "    doc = nlp(text)   # Creating an NLP object\n",
    "    \n",
    "    # Tokenize and filter out punctuation and stop words and normalizing the tokens into small letters\n",
    "    filtered_tokens = []\n",
    "    \n",
    "    for token in doc:\n",
    "        if token.is_stop or token.is_punct:\n",
    "            continue\n",
    "        filtered_tokens.append(token.lemma_.lower()) # Lemmatize\n",
    "    \n",
    "    return filtered_tokens"
   ]
  },
  {
   "cell_type": "code",
   "execution_count": 14,
   "id": "4ebff66d",
   "metadata": {},
   "outputs": [
    {
     "name": "stdout",
     "output_type": "stream",
     "text": [
      "['code', 'boring']\n"
     ]
    }
   ],
   "source": [
    "# Example usage\n",
    "text = \"Coding is never boring.\"\n",
    "\n",
    "# Storing the result\n",
    "preprocessed_tokens = text_preprocess(text)\n",
    "\n",
    "# Display the result\n",
    "print(preprocessed_tokens)"
   ]
  },
  {
   "cell_type": "code",
   "execution_count": null,
   "id": "0884f10d",
   "metadata": {},
   "outputs": [],
   "source": []
  }
 ],
 "metadata": {
  "kernelspec": {
   "display_name": "Python 3 (ipykernel)",
   "language": "python",
   "name": "python3"
  },
  "language_info": {
   "codemirror_mode": {
    "name": "ipython",
    "version": 3
   },
   "file_extension": ".py",
   "mimetype": "text/x-python",
   "name": "python",
   "nbconvert_exporter": "python",
   "pygments_lexer": "ipython3",
   "version": "3.11.3"
  }
 },
 "nbformat": 4,
 "nbformat_minor": 5
}
